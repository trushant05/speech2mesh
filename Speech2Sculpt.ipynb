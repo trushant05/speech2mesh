{
  "cells": [
    {
      "cell_type": "code",
      "source": [
        "!nvidia-smi"
      ],
      "metadata": {
        "id": "7ZxIgqa-HRJW"
      },
      "execution_count": null,
      "outputs": []
    },
    {
      "cell_type": "code",
      "source": [
        "!pip install diffusers==0.11.1\n",
        "!pip install transformers scipy ftfy accelerate"
      ],
      "metadata": {
        "id": "Ve6gPxbRIBwi"
      },
      "execution_count": null,
      "outputs": []
    },
    {
      "cell_type": "code",
      "source": [
        "import torch\n",
        "from diffusers import StableDiffusionPipeline\n",
        "\n",
        "pipe = StableDiffusionPipeline.from_pretrained(\"CompVis/stable-diffusion-v1-4\", torch_dtype=torch.float16)"
      ],
      "metadata": {
        "id": "F5h8eJRCIGLS"
      },
      "execution_count": null,
      "outputs": []
    },
    {
      "cell_type": "code",
      "source": [
        "pipe = pipe.to(\"cuda\")"
      ],
      "metadata": {
        "id": "GW6lAAZNIGon"
      },
      "execution_count": null,
      "outputs": []
    },
    {
      "cell_type": "code",
      "source": [
        "prompt = \"a graphic photograph of a dragon with wings\"\n",
        "generator = torch.Generator(\"cuda\").manual_seed(1024)\n",
        "image = pipe(prompt, num_inference_steps=15, generator=generator).images[0]\n",
        "image.save(f\"my_example.png\")\n",
        "image"
      ],
      "metadata": {
        "id": "68-It_BjIRui"
      },
      "execution_count": null,
      "outputs": []
    },
    {
      "cell_type": "code",
      "execution_count": null,
      "metadata": {
        "id": "VjYy0F2gZIPR"
      },
      "outputs": [],
      "source": [
        "%cd /content\n",
        "!GIT_LFS_SKIP_SMUDGE=1 git clone -b dev https://github.com/camenduru/InstantMesh\n",
        "%cd /content/InstantMesh\n",
        "\n",
        "!pip install pytorch-lightning==2.1.2 gradio==3.50.2 einops omegaconf torchmetrics webdataset accelerate tensorboard\n",
        "!pip install PyMCubes trimesh rembg transformers diffusers==0.20.2 bitsandbytes imageio[ffmpeg] xatlas plyfile\n",
        "!pip install git+https://github.com/NVlabs/nvdiffrast jax==0.4.19 jaxlib==0.4.19 ninja"
      ]
    },
    {
      "cell_type": "code",
      "execution_count": null,
      "metadata": {
        "id": "q8CySb0hHMfD"
      },
      "outputs": [],
      "source": [
        "%cd /content/InstantMesh\n",
        "\n",
        "import torch\n",
        "model = None\n",
        "torch.cuda.empty_cache()\n",
        "\n",
        "import numpy as np\n",
        "import rembg\n",
        "from PIL import Image\n",
        "from pytorch_lightning import seed_everything\n",
        "from einops import rearrange\n",
        "from diffusers import DiffusionPipeline, EulerAncestralDiscreteScheduler\n",
        "from huggingface_hub import hf_hub_download\n",
        "from src.utils.infer_util import remove_background, resize_foreground\n",
        "\n",
        "pipeline = DiffusionPipeline.from_pretrained(\"sudo-ai/zero123plus-v1.2\", custom_pipeline=\"zero123plus\",torch_dtype=torch.float16,)\n",
        "pipeline.scheduler = EulerAncestralDiscreteScheduler.from_config(pipeline.scheduler.config, timestep_spacing='trailing')\n",
        "unet_ckpt_path = hf_hub_download(repo_id=\"TencentARC/InstantMesh\", filename=\"diffusion_pytorch_model.bin\", repo_type=\"model\")\n",
        "state_dict = torch.load(unet_ckpt_path, map_location='cpu')\n",
        "pipeline.unet.load_state_dict(state_dict, strict=True)\n",
        "device = torch.device('cuda')\n",
        "pipeline = pipeline.to(device)\n",
        "seed_everything(0)\n",
        "\n",
        "def preprocess(input_image, do_remove_background):\n",
        "    rembg_session = rembg.new_session() if do_remove_background else None\n",
        "    if do_remove_background:\n",
        "        input_image = remove_background(input_image, rembg_session)\n",
        "        input_image = resize_foreground(input_image, 0.85)\n",
        "    return input_image\n",
        "\n",
        "def generate_mvs(input_image, sample_steps, sample_seed):\n",
        "    seed_everything(sample_seed)\n",
        "    generator = torch.Generator(device=device)\n",
        "    z123_image = pipeline(\n",
        "        input_image,\n",
        "        num_inference_steps=sample_steps,\n",
        "        generator=generator,\n",
        "    ).images[0]\n",
        "    show_image = np.asarray(z123_image, dtype=np.uint8)\n",
        "    show_image = torch.from_numpy(show_image)     # (960, 640, 3)\n",
        "    show_image = rearrange(show_image, '(n h) (m w) c -> (n m) h w c', n=3, m=2)\n",
        "    show_image = rearrange(show_image, '(n m) h w c -> (n h) (m w) c', n=2, m=3)\n",
        "    show_image = Image.fromarray(show_image.numpy())\n",
        "    return z123_image, show_image\n",
        "\n",
        "input_image_path = '/content/InstantMesh/examples/my_example.png' #@param {type:\"string\"}\n",
        "input_image = Image.open(input_image_path)\n",
        "processed_image = preprocess(input_image, True)\n",
        "processed_image\n",
        "mv_images, mv_show_images = generate_mvs(processed_image, 75, 42)\n",
        "mv_images.save('/content/InstantMesh/mv_images.png')\n",
        "mv_show_images"
      ]
    },
    {
      "cell_type": "code",
      "execution_count": null,
      "metadata": {
        "id": "-ePKmET3HMfD"
      },
      "outputs": [],
      "source": [
        "%cd /content/InstantMesh\n",
        "\n",
        "import torch\n",
        "pipeline = None\n",
        "torch.cuda.empty_cache()\n",
        "\n",
        "import os\n",
        "from torchvision.transforms import v2\n",
        "from huggingface_hub import hf_hub_download\n",
        "from omegaconf import OmegaConf\n",
        "from PIL import Image\n",
        "import numpy as np\n",
        "from einops import rearrange, repeat\n",
        "import tempfile\n",
        "from tqdm import tqdm\n",
        "import imageio\n",
        "\n",
        "from src.utils.train_util import instantiate_from_config\n",
        "from src.utils.camera_util import (FOV_to_intrinsics, get_zero123plus_input_cameras,get_circular_camera_poses,)\n",
        "from src.utils.mesh_util import save_obj, save_obj_with_mtl\n",
        "\n",
        "config_path = 'configs/instant-mesh-base.yaml'\n",
        "config = OmegaConf.load(config_path)\n",
        "config_name = os.path.basename(config_path).replace('.yaml', '')\n",
        "model_config = config.model_config\n",
        "infer_config = config.infer_config\n",
        "model_ckpt_path = hf_hub_download(repo_id=\"TencentARC/InstantMesh\", filename=\"instant_mesh_base.ckpt\", repo_type=\"model\")\n",
        "model = instantiate_from_config(model_config)\n",
        "state_dict = torch.load(model_ckpt_path, map_location='cpu')['state_dict']\n",
        "state_dict = {k[14:]: v for k, v in state_dict.items() if k.startswith('lrm_generator.') and 'source_camera' not in k}\n",
        "model.load_state_dict(state_dict, strict=True)\n",
        "device = torch.device('cuda')\n",
        "model = model.to(device)\n",
        "IS_FLEXICUBES = True if config_name.startswith('instant-mesh') else False\n",
        "if IS_FLEXICUBES: model.init_flexicubes_geometry(device, fovy=30.0)\n",
        "model = model.eval()\n",
        "\n",
        "def images_to_video(images, output_path, fps=30):\n",
        "    os.makedirs(os.path.dirname(output_path), exist_ok=True)\n",
        "    frames = []\n",
        "    for i in range(images.shape[0]):\n",
        "        frame = (images[i].permute(1, 2, 0).cpu().numpy() * 255).astype(np.uint8).clip(0, 255)\n",
        "        assert frame.shape[0] == images.shape[2] and frame.shape[1] == images.shape[3], \\\n",
        "            f\"Frame shape mismatch: {frame.shape} vs {images.shape}\"\n",
        "        assert frame.min() >= 0 and frame.max() <= 255, \\\n",
        "            f\"Frame value out of range: {frame.min()} ~ {frame.max()}\"\n",
        "        frames.append(frame)\n",
        "    imageio.mimwrite(output_path, np.stack(frames), fps=fps, codec='h264')\n",
        "\n",
        "def get_render_cameras(batch_size=1, M=120, radius=2.5, elevation=10.0, is_flexicubes=False):\n",
        "    c2ws = get_circular_camera_poses(M=M, radius=radius, elevation=elevation)\n",
        "    if is_flexicubes:\n",
        "        cameras = torch.linalg.inv(c2ws)\n",
        "        cameras = cameras.unsqueeze(0).repeat(batch_size, 1, 1, 1)\n",
        "    else:\n",
        "        extrinsics = c2ws.flatten(-2)\n",
        "        intrinsics = FOV_to_intrinsics(30.0).unsqueeze(0).repeat(M, 1, 1).float().flatten(-2)\n",
        "        cameras = torch.cat([extrinsics, intrinsics], dim=-1)\n",
        "        cameras = cameras.unsqueeze(0).repeat(batch_size, 1, 1)\n",
        "    return cameras\n",
        "\n",
        "def make_mesh(mesh_fpath, planes):\n",
        "    mesh_basename = os.path.basename(mesh_fpath).split('.')[0]\n",
        "    mesh_dirname = os.path.dirname(mesh_fpath)\n",
        "    mesh_vis_fpath = os.path.join(mesh_dirname, f\"{mesh_basename}.glb\")\n",
        "    with torch.no_grad():\n",
        "        mesh_out = model.extract_mesh(planes, use_texture_map=True, **infer_config,)\n",
        "        vertices, faces, uvs, mesh_tex_idx, tex_map = mesh_out\n",
        "        # vertices = vertices[:, [1, 2, 0]]\n",
        "        # vertices[:, -1] *= -1\n",
        "        # faces = faces[:, [2, 1, 0]]\n",
        "        save_obj_with_mtl(\n",
        "            vertices.data.cpu().numpy(),\n",
        "            uvs.data.cpu().numpy(),\n",
        "            faces.data.cpu().numpy(),\n",
        "            mesh_tex_idx.data.cpu().numpy(),\n",
        "            tex_map.permute(1, 2, 0).data.cpu().numpy(),\n",
        "            mesh_fpath,\n",
        "        )\n",
        "        print(f\"Mesh with texmap saved to {mesh_fpath}\")\n",
        "        # vertices, faces, vertex_colors = mesh_out\n",
        "        # vertices = vertices[:, [1, 2, 0]]\n",
        "        # vertices[:, -1] *= -1\n",
        "        # faces = faces[:, [2, 1, 0]]\n",
        "        # save_obj(vertices, faces, vertex_colors, mesh_fpath)\n",
        "        # print(f\"Mesh saved to {mesh_fpath}\")\n",
        "    return mesh_fpath\n",
        "\n",
        "def make3d(images):\n",
        "    images = np.asarray(images, dtype=np.float32) / 255.0\n",
        "    images = torch.from_numpy(images).permute(2, 0, 1).contiguous().float()     # (3, 960, 640)\n",
        "    images = rearrange(images, 'c (n h) (m w) -> (n m) c h w', n=3, m=2)        # (6, 3, 320, 320)\n",
        "    input_cameras = get_zero123plus_input_cameras(batch_size=1, radius=4.0).to(device)\n",
        "    render_cameras = get_render_cameras(\n",
        "        batch_size=1, radius=4.5, elevation=20.0, is_flexicubes=IS_FLEXICUBES).to(device)\n",
        "    images = images.unsqueeze(0).to(device)\n",
        "    images = v2.functional.resize(images, (320, 320), interpolation=3, antialias=True).clamp(0, 1)\n",
        "    directory = '/content/tmp'\n",
        "    if not os.path.exists(directory):\n",
        "        os.makedirs(directory)\n",
        "    tempfile.tempdir = directory\n",
        "    mesh_fpath = tempfile.NamedTemporaryFile(suffix=f\".obj\", delete=False).name\n",
        "    print(mesh_fpath)\n",
        "    mesh_basename = os.path.basename(mesh_fpath).split('.')[0]\n",
        "    mesh_dirname = os.path.dirname(mesh_fpath)\n",
        "    video_fpath = os.path.join(mesh_dirname, f\"{mesh_basename}.mp4\")\n",
        "    with torch.no_grad():\n",
        "        planes = model.forward_planes(images, input_cameras)\n",
        "        chunk_size = 20 if IS_FLEXICUBES else 1\n",
        "        render_size = 384\n",
        "        frames = []\n",
        "        for i in tqdm(range(0, render_cameras.shape[1], chunk_size)):\n",
        "            if IS_FLEXICUBES:\n",
        "                frame = model.forward_geometry(planes, render_cameras[:, i:i+chunk_size], render_size=render_size,)['img']\n",
        "            else:\n",
        "                frame = model.synthesizer(planes, cameras=render_cameras[:, i:i+chunk_size],render_size=render_size,)['images_rgb']\n",
        "            frames.append(frame)\n",
        "        frames = torch.cat(frames, dim=1)\n",
        "        images_to_video(frames[0], video_fpath, fps=30,)\n",
        "        print(f\"Video saved to {video_fpath}\")\n",
        "    mesh_fpath = make_mesh(mesh_fpath, planes)\n",
        "    return video_fpath, mesh_fpath\n",
        "\n",
        "mv_images = Image.open('/content/InstantMesh/mv_images.png')\n",
        "output_video, output_model_obj = make3d(mv_images)\n",
        "!cp -f {output_video} /content/InstantMesh/output_video.mp4\n",
        "!cp -f {output_model_obj} /content/InstantMesh/output_model.obj\n",
        "from IPython.display import Video\n",
        "Video(output_video, embed=True)"
      ]
    }
  ],
  "metadata": {
    "accelerator": "GPU",
    "colab": {
      "gpuType": "T4",
      "provenance": []
    },
    "kernelspec": {
      "display_name": "Python 3",
      "name": "python3"
    },
    "language_info": {
      "name": "python"
    }
  },
  "nbformat": 4,
  "nbformat_minor": 0
}